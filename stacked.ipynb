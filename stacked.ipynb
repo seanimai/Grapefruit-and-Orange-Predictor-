{
 "cells": [
  {
   "cell_type": "code",
   "execution_count": 1,
   "metadata": {},
   "outputs": [],
   "source": [
    "# ---------------- import necessary libraries ---------------------------\n",
    "import pandas as pd\n",
    "import math\n",
    "import numpy as np\n",
    "import matplotlib.pyplot as plt\n",
    "from numpy import atleast_2d as twod\n",
    "import mltools as ml\n",
    "np.random.seed(0)\n"
   ]
  },
  {
   "cell_type": "code",
   "execution_count": 27,
   "metadata": {},
   "outputs": [
    {
     "name": "stdout",
     "output_type": "stream",
     "text": [
      "Done Loading Data\n"
     ]
    }
   ],
   "source": [
    "# Data Loading\n",
    "data = np.genfromtxt('data/citrus.csv', delimiter=\",\", skip_header = 1,\n",
    "                     dtype=[\"|S5\"] + [\"float\" for n in range(5)])\n",
    "\n",
    "np.random.shuffle(data)\n",
    "\n",
    "data = np.array(data.tolist())\n",
    "X = np.asarray([[float(y) for y in x] for x in data[:,1:]], dtype = float)\n",
    "Y = np.asarray([str(y,'utf-8') for y in data[:,0]], dtype = str)\n",
    "\n",
    "for i in X:\n",
    "    for index, x in enumerate(i):\n",
    "        if(x == None):\n",
    "            x = np.mean(X[:,index]) \n",
    "\n",
    "\n",
    "\n",
    "data_size = X.shape[0]\n",
    "first_half = round(int(data_size / 2))\n",
    "third = first_half + round((first_half / 2))\n",
    "\n",
    "Xtr = X[0:third, :]\n",
    "Ytr = Y[0:third]\n",
    "Xte = X[third:-1, :]\n",
    "\n",
    "#convert target values to binary values\n",
    "for y in range(Ytr.shape[0]):\n",
    "    if(str(Ytr[y]) == 'orang'):\n",
    "        Ytr[y] = int(0)\n",
    "    elif(str(Ytr[y]) == 'grape'):\n",
    "        Ytr[y] = int(1)\n",
    "    else:\n",
    "        Ytr[y] = int(1)\n",
    "\n",
    "# Split into training and validation data\n",
    "Xtr,Xva,Ytr,Yva = ml.splitData(Xtr,Ytr,0.75) # split data set 75/25\n",
    "\n",
    "def toKaggle(filename,YeHat):\n",
    "    fh=open(filename,'w')# open file for upload\n",
    "    fh.write('ID,Predicted\\n')# output header line\n",
    "    for i,yi in enumerate(YeHat.ravel()):\n",
    "        fh.write('{},{}\\n'.format(i,yi))# output each prediction\n",
    "    fh.close()\n",
    "\n",
    "print(\"Done Loading Data\")"
   ]
  },
  {
   "cell_type": "code",
   "execution_count": 165,
   "metadata": {
    "scrolled": false
   },
   "outputs": [
    {
     "name": "stdout",
     "output_type": "stream",
     "text": [
      "it 1 : Jsur = 0.19501343903711738, J01 = 0.11697777777777778\n",
      "it 2 : Jsur = 0.1875458982978953, J01 = 0.11235555555555556\n",
      "it 4 : Jsur = 0.17716184931514847, J01 = 0.10488888888888889\n",
      "it 8 : Jsur = 0.17253149738452841, J01 = 0.104\n",
      "it 16 : Jsur = 0.16969255189695273, J01 = 0.10293333333333334\n",
      "AUC of Neural Network is: 0.9244548924808281\n"
     ]
    }
   ],
   "source": [
    "# Simple Neural Network Classifier\n",
    "\n",
    "sig_0 = lambda z: twod(1 / (1 + np.exp(-z)))\n",
    "dSig_0 = lambda z: twod(np.multiply(sig(z), (1 - sig(z))))\n",
    "sig = lambda z: twod(np.tanh(z))\n",
    "dSig = lambda z: twod(1 - np.power(np.tanh(z), 2))\n",
    "\n",
    "nn = ml.nnet.nnetClassify()\n",
    "nn.init_weights([Xtr.shape[1], 200, len(np.unique(Ytr))], 'random', Xtr, Ytr)\n",
    "nn.setActivation('logistic')\n",
    "nn.train(Xtr,Ytr,stopTol=1e-5,stepsize=0.6,stopIter= 5000)\n",
    "\n",
    "PvaNn=nn.predictSoft(Xva)\n",
    "PteNn=nn.predictSoft(Xte)\n",
    "\n",
    "toKaggle('PvaNn.csv',PvaNn[:,1])\n",
    "toKaggle('PteNn.csv',PteNn[:,1])\n",
    "\n",
    "print(\"AUC of Neural Network is: {}\".format(nn.auc(Xva,Yva)))\n"
   ]
  },
  {
   "cell_type": "code",
   "execution_count": 167,
   "metadata": {},
   "outputs": [
    {
     "name": "stdout",
     "output_type": "stream",
     "text": [
      "AUC of Random Forest is: 0.9659784013214451\n"
     ]
    }
   ],
   "source": [
    "\n",
    "AUCva = []\n",
    "\n",
    "esemble = [0] * 30 \n",
    "current = 0\n",
    "\n",
    "for i in range(30):\n",
    "    Xi,Yi = ml.bootstrapData(Xtr,Ytr, n_boot = 3000)\n",
    "    \n",
    "    learner = ml.dtree.treeClassify(Xi, Yi, minLeaf = 30, maxDepth = 19,\n",
    "    nFeatures = 70, minParent = 220)\n",
    "    \n",
    "    esemble[current] = learner\n",
    "    AUCva.append(learner.auc(Xva, Yva))\n",
    "    current = current + 1\n",
    "\n",
    "meanAUC = np.mean(AUCva)\n",
    "print(\"AUC of Random Forest is: {}\".format(meanAUC))\n",
    "\n",
    "test_predictions = np.zeros((Xte.shape[0], 2))\n",
    "va_predictions = np.zeros((Xva.shape[0], 2))\n",
    "for i in range(30):\n",
    "    test_predictions += esemble[i].predictSoft(Xte)\n",
    "    va_predictions += esemble[i].predictSoft(Xva)\n",
    "\n",
    "test_predictions /= len(keep)\n",
    "va_predictions /= len(keep)\n",
    "\n",
    "toKaggle('Pva1.csv',va_predictions[:,1])\n",
    "toKaggle('Pte1.csv',test_predictions[:,1])\n"
   ]
  },
  {
   "cell_type": "code",
   "execution_count": 168,
   "metadata": {
    "scrolled": true
   },
   "outputs": [
    {
     "name": "stdout",
     "output_type": "stream",
     "text": [
      "** Stacked AUC:  0.9858758026664118\n"
     ]
    }
   ],
   "source": [
    "\n",
    "Pva1=np.genfromtxt('Pva1.csv',delimiter=',',skip_header=1)[:,1:2]\n",
    "Pte1=np.genfromtxt('Pte1.csv',delimiter=',',skip_header=1)[:,1:2]\n",
    "PvaNn=np.genfromtxt('PvaNn.csv',delimiter=',',skip_header=1)[:,1:2]\n",
    "PteNn=np.genfromtxt('PteNn.csv',delimiter=',',skip_header=1)[:,1:2]\n",
    "\n",
    "Sv=np.hstack((Pva1,PvaNn))\n",
    "stack= ml.linearC.linearClassify(Sv,Yva,reg=1e-6)\n",
    "print(\"** Stacked AUC: \",stack.auc(Sv,Yva))\n",
    "\n",
    "Se=np.hstack((Pte1,PteNn))\n",
    "PeS=stack.predictSoft(Se)\n",
    "toKaggle('Ex_Stack.csv',PeS[:,1])"
   ]
  },
  {
   "cell_type": "code",
   "execution_count": null,
   "metadata": {},
   "outputs": [],
   "source": []
  }
 ],
 "metadata": {
  "kernelspec": {
   "display_name": "Python 3",
   "language": "python",
   "name": "python3"
  },
  "language_info": {
   "codemirror_mode": {
    "name": "ipython",
    "version": 3
   },
   "file_extension": ".py",
   "mimetype": "text/x-python",
   "name": "python",
   "nbconvert_exporter": "python",
   "pygments_lexer": "ipython3",
   "version": "3.7.4"
  }
 },
 "nbformat": 4,
 "nbformat_minor": 2
}
